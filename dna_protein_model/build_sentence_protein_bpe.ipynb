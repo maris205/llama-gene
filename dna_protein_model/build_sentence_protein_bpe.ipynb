{
 "cells": [
  {
   "cell_type": "code",
   "execution_count": 2,
   "id": "8e0af400-e9ef-46d9-b9b4-b6f6acf66252",
   "metadata": {},
   "outputs": [
    {
     "name": "stdout",
     "output_type": "stream",
     "text": [
      "Looking in indexes: http://mirrors.aliyun.com/pypi/simple\n",
      "Collecting sentencepiece\n",
      "  Downloading http://mirrors.aliyun.com/pypi/packages/4f/d2/18246f43ca730bb81918f87b7e886531eda32d835811ad9f4657c54eee35/sentencepiece-0.2.0-cp312-cp312-manylinux_2_17_x86_64.manylinux2014_x86_64.whl (1.3 MB)\n",
      "\u001b[2K     \u001b[90m━━━━━━━━━━━━━━━━━━━━━━━━━━━━━━━━━━━━━━━━\u001b[0m \u001b[32m1.3/1.3 MB\u001b[0m \u001b[31m14.4 MB/s\u001b[0m eta \u001b[36m0:00:00\u001b[0m\n",
      "\u001b[?25hInstalling collected packages: sentencepiece\n",
      "Successfully installed sentencepiece-0.2.0\n",
      "\u001b[33mWARNING: Running pip as the 'root' user can result in broken permissions and conflicting behaviour with the system package manager, possibly rendering your system unusable.It is recommended to use a virtual environment instead: https://pip.pypa.io/warnings/venv. Use the --root-user-action option if you know what you are doing and want to suppress this warning.\u001b[0m\u001b[33m\n",
      "\u001b[0m"
     ]
    }
   ],
   "source": [
    "!pip install sentencepiece"
   ]
  },
  {
   "cell_type": "code",
   "execution_count": null,
   "id": "f44e5b49-ae31-4d3d-8d20-1a65b39fa7c7",
   "metadata": {},
   "outputs": [],
   "source": [
    "import sentencepiece as spm\n",
    "\n",
    "# 假设我们有一个文本文件 'data.txt'，其中包含我们希望训练的文本数据\n",
    "spm.SentencePieceTrainer.train(input='protein1G.txt',\n",
    "                               model_prefix='gene_llama_seg', \n",
    "                               vocab_size=30000,\n",
    "                               model_type='bpe',\n",
    "                               num_threads=128,\n",
    "                              )"
   ]
  },
  {
   "cell_type": "code",
   "execution_count": 2,
   "id": "ecb8592e-92c6-4c59-8139-ed618f3df7da",
   "metadata": {},
   "outputs": [
    {
     "name": "stdout",
     "output_type": "stream",
     "text": [
      "['▁', 'TCGACG', 'GCACGC', 'GACAG', 'CAGCGAG', 'CCCCG', 'CGCACC', 'CGAGCGCG', 'AATGCA', 'CCTGCTC', 'ATA', 'CGCCCG', 'CGCTCGCG', 'CCACCTCC', 'GTAGGC', 'GACAG', 'CGACGCCG', 'CCACCTCC', 'GGCA']\n"
     ]
    }
   ],
   "source": [
    "from sentencepiece import SentencePieceProcessor\n",
    "model_path = \"gene_llama_seg.model\"\n",
    "sp_model = SentencePieceProcessor(model_file=model_path)\n",
    "mm = sp_model.EncodeAsPieces(\"TCGACGGCACGCGACAGCAGCGAGCCCCGCGCACCCGAGCGCGAATGCACCTGCTCATACGCCCGCGCTCGCGCCACCTCCGTAGGCGACAGCGACGCCGCCACCTCCGGCA\")\n",
    "print(mm)"
   ]
  },
  {
   "cell_type": "code",
   "execution_count": null,
   "id": "c98a28fb-fe5b-41d4-b124-69a271c26088",
   "metadata": {},
   "outputs": [],
   "source": []
  }
 ],
 "metadata": {
  "kernelspec": {
   "display_name": "Python 3 (ipykernel)",
   "language": "python",
   "name": "python3"
  },
  "language_info": {
   "codemirror_mode": {
    "name": "ipython",
    "version": 3
   },
   "file_extension": ".py",
   "mimetype": "text/x-python",
   "name": "python",
   "nbconvert_exporter": "python",
   "pygments_lexer": "ipython3",
   "version": "3.11.9"
  }
 },
 "nbformat": 4,
 "nbformat_minor": 5
}
