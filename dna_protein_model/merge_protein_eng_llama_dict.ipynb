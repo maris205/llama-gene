{
 "cells": [
  {
   "cell_type": "code",
   "execution_count": 1,
   "id": "09478f13-4e9d-499a-ac90-46aecf4b3162",
   "metadata": {},
   "outputs": [],
   "source": [
    "import os\n",
    "os.environ[\"PROTOCOL_BUFFERS_PYTHON_IMPLEMENTATION\"]=\"python\"\n",
    "from transformers import LlamaTokenizer\n",
    "from sentencepiece import sentencepiece_model_pb2 as sp_pb2_model\n",
    "import sentencepiece as spm"
   ]
  },
  {
   "cell_type": "code",
   "execution_count": 2,
   "id": "d1742ffe-24e5-4312-9bb2-2da5e651f182",
   "metadata": {},
   "outputs": [
    {
     "name": "stdout",
     "output_type": "stream",
     "text": [
      "61972 30000\n",
      "['<s>', '</s>', '<unk>']\n",
      "[1, 2, 0]\n",
      "{'bos_token': '<s>', 'eos_token': '</s>', 'unk_token': '<unk>'}\n"
     ]
    }
   ],
   "source": [
    "llama_tokenizer_dir = \"dnahlm-merge-hf-4g\"\n",
    "dna_sp_model_file = \"gene_llama_seg.model\"\n",
    "\n",
    "# load\n",
    "llama_tokenizer = LlamaTokenizer.from_pretrained(llama_tokenizer_dir)\n",
    "dna_sp_model = spm.SentencePieceProcessor()\n",
    "dna_sp_model.Load(dna_sp_model_file)\n",
    "\n",
    "llama_spm = sp_pb2_model.ModelProto()\n",
    "llama_spm.ParseFromString(llama_tokenizer.sp_model.serialized_model_proto())\n",
    "dna_spm = sp_pb2_model.ModelProto()\n",
    "dna_spm.ParseFromString(dna_sp_model.serialized_model_proto())\n",
    "\n",
    "# print number of tokens\n",
    "print(len(llama_tokenizer),len(dna_sp_model))\n",
    "print(llama_tokenizer.all_special_tokens)\n",
    "print(llama_tokenizer.all_special_ids)\n",
    "print(llama_tokenizer.special_tokens_map)"
   ]
  },
  {
   "cell_type": "code",
   "execution_count": 3,
   "id": "cca5031f-87d4-4b76-8a8d-cae305df288b",
   "metadata": {},
   "outputs": [
    {
     "name": "stdout",
     "output_type": "stream",
     "text": [
      "61972\n",
      "Before:61972\n",
      "New model pieces: 91597\n"
     ]
    }
   ],
   "source": [
    "## Add dna tokens to LLaMA tokenizer\n",
    "llama_spm_tokens_set=set(p.piece for p in llama_spm.pieces)\n",
    "print(len(llama_spm_tokens_set))\n",
    "print(f\"Before:{len(llama_spm_tokens_set)}\")\n",
    "for p in dna_spm.pieces:\n",
    "    piece = p.piece\n",
    "    score = p.score\n",
    "    if piece not in llama_spm_tokens_set:\n",
    "        new_p = sp_pb2_model.ModelProto().SentencePiece()\n",
    "        new_p.piece = piece\n",
    "        new_p.score = score # 0?\n",
    "        llama_spm.pieces.append(new_p)\n",
    "print(f\"New model pieces: {len(llama_spm.pieces)}\")"
   ]
  },
  {
   "cell_type": "code",
   "execution_count": 4,
   "id": "540545fc-c582-4417-bdf1-4d9c6c10516d",
   "metadata": {},
   "outputs": [
    {
     "name": "stderr",
     "output_type": "stream",
     "text": [
      "You are using the default legacy behaviour of the <class 'transformers.models.llama.tokenization_llama.LlamaTokenizer'>. This is expected, and simply means that the `legacy` (previous) behavior will be used so nothing changes for you. If you want to use the new behaviour, set `legacy=False`. This should only be set if you understand what it means, and thoroughly read the reason why this was added as explained in https://github.com/huggingface/transformers/pull/24565 - if you loaded a llama tokenizer from a GGUF file you can ignore this message\n"
     ]
    },
    {
     "name": "stdout",
     "output_type": "stream",
     "text": [
      "dna-LLaMA tokenizer has been saved to merged_protein_eng_tokenizer_hf\n"
     ]
    }
   ],
   "source": [
    "## Save\n",
    "output_sp_dir = 'merged_protein_eng_tokenizer_sp'\n",
    "output_hf_dir = 'merged_gene_eng_tokenizer_hf' # the path to save dna-LLaMA tokenizer\n",
    "os.makedirs(output_sp_dir,exist_ok=True)\n",
    "with open(output_sp_dir+'/protein_eng_llama_tokenizer.model', 'wb') as f:\n",
    "    f.write(llama_spm.SerializeToString())\n",
    "\n",
    "tokenizer = LlamaTokenizer(vocab_file=output_sp_dir+'/protein_eng_llama_tokenizer.model')\n",
    "tokenizer.save_pretrained(output_hf_dir)\n",
    "print(f\"dna-LLaMA tokenizer has been saved to {output_hf_dir}\")"
   ]
  },
  {
   "cell_type": "code",
   "execution_count": 5,
   "id": "df5b29fb-752f-46bf-9837-ced6af72025d",
   "metadata": {},
   "outputs": [
    {
     "name": "stdout",
     "output_type": "stream",
     "text": [
      "['<s>', '</s>', '<unk>']\n",
      "[1, 2, 0]\n",
      "{'bos_token': '<s>', 'eos_token': '</s>', 'unk_token': '<unk>'}\n",
      "Test text:\n",
      " LPPYMVPIEPQVGKFYSPVALGAGAGSVLSVTFAALGCKLTWTYRWMAALMVWLRRCTHYLFIVVVAVSTLLTITGDYIFYTDWAWTSYTVFSIGILMISVGATYYLLFTGVPGTASYY,\n",
      "The primary use of LLaMA is research on large language models, including\n",
      "Tokenized by LLaMA tokenizer:['▁L', 'PP', 'Y', 'M', 'V', 'PI', 'EP', 'Q', 'V', 'G', 'K', 'F', 'Y', 'SP', 'VAL', 'GAGA', 'G', 'SV', 'L', 'SV', 'T', 'FA', 'AL', 'G', 'CK', 'LT', 'W', 'TY', 'R', 'W', 'MA', 'AL', 'M', 'V', 'W', 'LR', 'R', 'CT', 'H', 'Y', 'L', 'FI', 'V', 'V', 'V', 'AV', 'ST', 'LL', 'TI', 'TG', 'D', 'Y', 'IF', 'Y', 'TD', 'WA', 'W', 'TS', 'Y', 'TV', 'F', 'SI', 'G', 'IL', 'M', 'IS', 'V', 'GAT', 'YY', 'LL', 'F', 'TG', 'V', 'PG', 'T', 'AS', 'YY', ',', '<0x0A>', 'The', '▁primary', '▁use', '▁of', '▁L', 'La', 'MA', '▁is', '▁research', '▁on', '▁large', '▁language', '▁models', ',', '▁including']\n",
      "Tokenized by DNA-LLaMA tokenizer:['▁L', 'PP', 'Y', 'MVP', 'IE', 'P', 'QVG', 'KF', 'YSPV', 'ALG', 'AGAG', 'SVLS', 'VT', 'F', 'AALG', 'C', 'KLT', 'WT', 'YR', 'W', 'MAA', 'LMV', 'WLRR', 'CT', 'HY', 'LFI', 'VVV', 'AVST', 'LLTI', 'TG', 'DYI', 'FY', 'TDW', 'A', 'WTS', 'YTV', 'F', 'SIGI', 'LMI', 'SVG', 'ATYY', 'LLF', 'TGVP', 'G', 'TAS', 'YY', ',', '<0x0A>', 'The', '▁primary', '▁use', '▁of', '▁L', 'La', 'MA', '▁is', '▁research', '▁on', '▁large', '▁language', '▁models', ',', '▁including']\n"
     ]
    }
   ],
   "source": [
    "# Test\n",
    "llama_tokenizer = LlamaTokenizer.from_pretrained(llama_tokenizer_dir)\n",
    "protein_llama_tokenizer = LlamaTokenizer.from_pretrained(output_hf_dir)\n",
    "print(tokenizer.all_special_tokens)\n",
    "print(tokenizer.all_special_ids)\n",
    "print(tokenizer.special_tokens_map)\n",
    "text='''LPPYMVPIEPQVGKFYSPVALGAGAGSVLSVTFAALGCKLTWTYRWMAALMVWLRRCTHYLFIVVVAVSTLLTITGDYIFYTDWAWTSYTVFSIGILMISVGATYYLLFTGVPGTASYY,\n",
    "The primary use of LLaMA is research on large language models, including'''\n",
    "print(\"Test text:\\n\",text)\n",
    "print(f\"Tokenized by LLaMA tokenizer:{llama_tokenizer.tokenize(text)}\")\n",
    "print(f\"Tokenized by LLaMA-gene tokenizer:{protein_llama_tokenizer.tokenize(text)}\")"
   ]
  },
  {
   "cell_type": "code",
   "execution_count": null,
   "id": "61f40caa-8a6c-4e92-8fbc-29e3c3cbbea8",
   "metadata": {},
   "outputs": [],
   "source": []
  }
 ],
 "metadata": {
  "kernelspec": {
   "display_name": "Python 3 (ipykernel)",
   "language": "python",
   "name": "python3"
  },
  "language_info": {
   "codemirror_mode": {
    "name": "ipython",
    "version": 3
   },
   "file_extension": ".py",
   "mimetype": "text/x-python",
   "name": "python",
   "nbconvert_exporter": "python",
   "pygments_lexer": "ipython3",
   "version": "3.11.9"
  }
 },
 "nbformat": 4,
 "nbformat_minor": 5
}
